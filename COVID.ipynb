{
  "nbformat": 4,
  "nbformat_minor": 0,
  "metadata": {
    "colab": {
      "provenance": []
    },
    "kernelspec": {
      "name": "python3",
      "display_name": "Python 3"
    },
    "language_info": {
      "name": "python"
    }
  },
  "cells": [
    {
      "cell_type": "code",
      "source": [
        "# Install pyspark\n",
        "!pip install pyspark\n"
      ],
      "metadata": {
        "colab": {
          "base_uri": "https://localhost:8080/"
        },
        "id": "ESaGNEPGaksq",
        "outputId": "77175b3d-552b-4bc0-8ec7-0f9850a7761c"
      },
      "execution_count": 37,
      "outputs": [
        {
          "output_type": "stream",
          "name": "stdout",
          "text": [
            "Looking in indexes: https://pypi.org/simple, https://us-python.pkg.dev/colab-wheels/public/simple/\n",
            "Requirement already satisfied: pyspark in /usr/local/lib/python3.8/dist-packages (3.3.1)\n",
            "Requirement already satisfied: py4j==0.10.9.5 in /usr/local/lib/python3.8/dist-packages (from pyspark) (0.10.9.5)\n"
          ]
        }
      ]
    },
    {
      "cell_type": "code",
      "source": [
        "# Import SparkSession\n",
        "from pyspark.sql import SparkSession\n",
        "# Create a Spark Session\n",
        "spark = SparkSession.builder.master(\"local[*]\").getOrCreate()\n",
        "# Check Spark Session Information\n",
        "spark"
      ],
      "metadata": {
        "colab": {
          "base_uri": "https://localhost:8080/",
          "height": 219
        },
        "id": "WKLwGZbJfHDA",
        "outputId": "57e30d67-5a6a-4baa-d01e-f2a5ccf12cca"
      },
      "execution_count": 38,
      "outputs": [
        {
          "output_type": "execute_result",
          "data": {
            "text/plain": [
              "<pyspark.sql.session.SparkSession at 0x7f398641ecd0>"
            ],
            "text/html": [
              "\n",
              "            <div>\n",
              "                <p><b>SparkSession - in-memory</b></p>\n",
              "                \n",
              "        <div>\n",
              "            <p><b>SparkContext</b></p>\n",
              "\n",
              "            <p><a href=\"http://2d73cb04210e:4040\">Spark UI</a></p>\n",
              "\n",
              "            <dl>\n",
              "              <dt>Version</dt>\n",
              "                <dd><code>v3.3.1</code></dd>\n",
              "              <dt>Master</dt>\n",
              "                <dd><code>local[*]</code></dd>\n",
              "              <dt>AppName</dt>\n",
              "                <dd><code>pyspark-shell</code></dd>\n",
              "            </dl>\n",
              "        </div>\n",
              "        \n",
              "            </div>\n",
              "        "
            ]
          },
          "metadata": {},
          "execution_count": 38
        }
      ]
    },
    {
      "cell_type": "code",
      "source": [
        "# Importing a Spark function from library\n",
        "from pyspark.sql.functions import col"
      ],
      "metadata": {
        "id": "hNIcFqhWfYFR"
      },
      "execution_count": 39,
      "outputs": []
    },
    {
      "cell_type": "code",
      "source": [
        "from pyspark.sql import SparkSession\n",
        "from pyspark.sql.functions import*\n",
        "\n",
        "from pyspark.sql.types import*"
      ],
      "metadata": {
        "id": "aQr34rXKfcv5"
      },
      "execution_count": 40,
      "outputs": []
    },
    {
      "cell_type": "code",
      "source": [
        "import pandas as pd\n",
        "import numpy as np"
      ],
      "metadata": {
        "id": "bGVqY0J5KF5F"
      },
      "execution_count": 41,
      "outputs": []
    },
    {
      "cell_type": "code",
      "source": [],
      "metadata": {
        "id": "YgdgU_GTKK1W"
      },
      "execution_count": 42,
      "outputs": []
    },
    {
      "cell_type": "code",
      "source": [
        "spark = SparkSession.builder.appName(\"COVID-19 DATA ANALYSIS AND FUTURE PREDICTION\").getOrCreate()"
      ],
      "metadata": {
        "id": "HzXSqgnIfhIb"
      },
      "execution_count": 43,
      "outputs": []
    },
    {
      "cell_type": "code",
      "source": [
        "spark.conf.set(\"spark.sql.repl.eagerEval.enabled\", True)"
      ],
      "metadata": {
        "id": "dOfAQV5Efj7P"
      },
      "execution_count": 44,
      "outputs": []
    },
    {
      "cell_type": "code",
      "source": [
        "covid_df = spark.read.csv(\"covid/covid_19_data.csv\", header=True, inferSchema=True)"
      ],
      "metadata": {
        "id": "BYfZ7hMFfnAP"
      },
      "execution_count": 45,
      "outputs": []
    },
    {
      "cell_type": "code",
      "source": [
        "covid_df"
      ],
      "metadata": {
        "colab": {
          "base_uri": "https://localhost:8080/",
          "height": 529
        },
        "id": "TVFtJTEXfu8I",
        "outputId": "f6369581-cb72-4e25-c4ac-7e681a5bd646"
      },
      "execution_count": 46,
      "outputs": [
        {
          "output_type": "execute_result",
          "data": {
            "text/plain": [
              "+---+---------------+--------------+--------------+---------------+---------+------+---------+\n",
              "|SNo|ObservationDate|Province/State|Country/Region|    Last Update|Confirmed|Deaths|Recovered|\n",
              "+---+---------------+--------------+--------------+---------------+---------+------+---------+\n",
              "|  1|     01/22/2020|         Anhui|Mainland China|1/22/2020 17:00|      1.0|   0.0|      0.0|\n",
              "|  2|     01/22/2020|       Beijing|Mainland China|1/22/2020 17:00|     14.0|   0.0|      0.0|\n",
              "|  3|     01/22/2020|     Chongqing|Mainland China|1/22/2020 17:00|      6.0|   0.0|      0.0|\n",
              "|  4|     01/22/2020|        Fujian|Mainland China|1/22/2020 17:00|      1.0|   0.0|      0.0|\n",
              "|  5|     01/22/2020|         Gansu|Mainland China|1/22/2020 17:00|      0.0|   0.0|      0.0|\n",
              "|  6|     01/22/2020|     Guangdong|Mainland China|1/22/2020 17:00|     26.0|   0.0|      0.0|\n",
              "|  7|     01/22/2020|       Guangxi|Mainland China|1/22/2020 17:00|      2.0|   0.0|      0.0|\n",
              "|  8|     01/22/2020|       Guizhou|Mainland China|1/22/2020 17:00|      1.0|   0.0|      0.0|\n",
              "|  9|     01/22/2020|        Hainan|Mainland China|1/22/2020 17:00|      4.0|   0.0|      0.0|\n",
              "| 10|     01/22/2020|         Hebei|Mainland China|1/22/2020 17:00|      1.0|   0.0|      0.0|\n",
              "| 11|     01/22/2020|  Heilongjiang|Mainland China|1/22/2020 17:00|      0.0|   0.0|      0.0|\n",
              "| 12|     01/22/2020|         Henan|Mainland China|1/22/2020 17:00|      5.0|   0.0|      0.0|\n",
              "| 13|     01/22/2020|     Hong Kong|     Hong Kong|1/22/2020 17:00|      0.0|   0.0|      0.0|\n",
              "| 14|     01/22/2020|         Hubei|Mainland China|1/22/2020 17:00|    444.0|  17.0|     28.0|\n",
              "| 15|     01/22/2020|         Hunan|Mainland China|1/22/2020 17:00|      4.0|   0.0|      0.0|\n",
              "| 16|     01/22/2020|Inner Mongolia|Mainland China|1/22/2020 17:00|      0.0|   0.0|      0.0|\n",
              "| 17|     01/22/2020|       Jiangsu|Mainland China|1/22/2020 17:00|      1.0|   0.0|      0.0|\n",
              "| 18|     01/22/2020|       Jiangxi|Mainland China|1/22/2020 17:00|      2.0|   0.0|      0.0|\n",
              "| 19|     01/22/2020|         Jilin|Mainland China|1/22/2020 17:00|      0.0|   0.0|      0.0|\n",
              "| 20|     01/22/2020|      Liaoning|Mainland China|1/22/2020 17:00|      2.0|   0.0|      0.0|\n",
              "+---+---------------+--------------+--------------+---------------+---------+------+---------+\n",
              "only showing top 20 rows"
            ],
            "text/html": [
              "<table border='1'>\n",
              "<tr><th>SNo</th><th>ObservationDate</th><th>Province/State</th><th>Country/Region</th><th>Last Update</th><th>Confirmed</th><th>Deaths</th><th>Recovered</th></tr>\n",
              "<tr><td>1</td><td>01/22/2020</td><td>Anhui</td><td>Mainland China</td><td>1/22/2020 17:00</td><td>1.0</td><td>0.0</td><td>0.0</td></tr>\n",
              "<tr><td>2</td><td>01/22/2020</td><td>Beijing</td><td>Mainland China</td><td>1/22/2020 17:00</td><td>14.0</td><td>0.0</td><td>0.0</td></tr>\n",
              "<tr><td>3</td><td>01/22/2020</td><td>Chongqing</td><td>Mainland China</td><td>1/22/2020 17:00</td><td>6.0</td><td>0.0</td><td>0.0</td></tr>\n",
              "<tr><td>4</td><td>01/22/2020</td><td>Fujian</td><td>Mainland China</td><td>1/22/2020 17:00</td><td>1.0</td><td>0.0</td><td>0.0</td></tr>\n",
              "<tr><td>5</td><td>01/22/2020</td><td>Gansu</td><td>Mainland China</td><td>1/22/2020 17:00</td><td>0.0</td><td>0.0</td><td>0.0</td></tr>\n",
              "<tr><td>6</td><td>01/22/2020</td><td>Guangdong</td><td>Mainland China</td><td>1/22/2020 17:00</td><td>26.0</td><td>0.0</td><td>0.0</td></tr>\n",
              "<tr><td>7</td><td>01/22/2020</td><td>Guangxi</td><td>Mainland China</td><td>1/22/2020 17:00</td><td>2.0</td><td>0.0</td><td>0.0</td></tr>\n",
              "<tr><td>8</td><td>01/22/2020</td><td>Guizhou</td><td>Mainland China</td><td>1/22/2020 17:00</td><td>1.0</td><td>0.0</td><td>0.0</td></tr>\n",
              "<tr><td>9</td><td>01/22/2020</td><td>Hainan</td><td>Mainland China</td><td>1/22/2020 17:00</td><td>4.0</td><td>0.0</td><td>0.0</td></tr>\n",
              "<tr><td>10</td><td>01/22/2020</td><td>Hebei</td><td>Mainland China</td><td>1/22/2020 17:00</td><td>1.0</td><td>0.0</td><td>0.0</td></tr>\n",
              "<tr><td>11</td><td>01/22/2020</td><td>Heilongjiang</td><td>Mainland China</td><td>1/22/2020 17:00</td><td>0.0</td><td>0.0</td><td>0.0</td></tr>\n",
              "<tr><td>12</td><td>01/22/2020</td><td>Henan</td><td>Mainland China</td><td>1/22/2020 17:00</td><td>5.0</td><td>0.0</td><td>0.0</td></tr>\n",
              "<tr><td>13</td><td>01/22/2020</td><td>Hong Kong</td><td>Hong Kong</td><td>1/22/2020 17:00</td><td>0.0</td><td>0.0</td><td>0.0</td></tr>\n",
              "<tr><td>14</td><td>01/22/2020</td><td>Hubei</td><td>Mainland China</td><td>1/22/2020 17:00</td><td>444.0</td><td>17.0</td><td>28.0</td></tr>\n",
              "<tr><td>15</td><td>01/22/2020</td><td>Hunan</td><td>Mainland China</td><td>1/22/2020 17:00</td><td>4.0</td><td>0.0</td><td>0.0</td></tr>\n",
              "<tr><td>16</td><td>01/22/2020</td><td>Inner Mongolia</td><td>Mainland China</td><td>1/22/2020 17:00</td><td>0.0</td><td>0.0</td><td>0.0</td></tr>\n",
              "<tr><td>17</td><td>01/22/2020</td><td>Jiangsu</td><td>Mainland China</td><td>1/22/2020 17:00</td><td>1.0</td><td>0.0</td><td>0.0</td></tr>\n",
              "<tr><td>18</td><td>01/22/2020</td><td>Jiangxi</td><td>Mainland China</td><td>1/22/2020 17:00</td><td>2.0</td><td>0.0</td><td>0.0</td></tr>\n",
              "<tr><td>19</td><td>01/22/2020</td><td>Jilin</td><td>Mainland China</td><td>1/22/2020 17:00</td><td>0.0</td><td>0.0</td><td>0.0</td></tr>\n",
              "<tr><td>20</td><td>01/22/2020</td><td>Liaoning</td><td>Mainland China</td><td>1/22/2020 17:00</td><td>2.0</td><td>0.0</td><td>0.0</td></tr>\n",
              "</table>\n",
              "only showing top 20 rows\n"
            ]
          },
          "metadata": {},
          "execution_count": 46
        }
      ]
    },
    {
      "cell_type": "code",
      "source": [
        "covid_df.count()"
      ],
      "metadata": {
        "colab": {
          "base_uri": "https://localhost:8080/"
        },
        "id": "Bhh37dsrfx0G",
        "outputId": "27fa48ed-f1bb-47a6-9138-d046c34ae6fe"
      },
      "execution_count": 12,
      "outputs": [
        {
          "output_type": "execute_result",
          "data": {
            "text/plain": [
              "285307"
            ]
          },
          "metadata": {},
          "execution_count": 12
        }
      ]
    },
    {
      "cell_type": "code",
      "source": [
        "covid_df.printSchema()"
      ],
      "metadata": {
        "colab": {
          "base_uri": "https://localhost:8080/"
        },
        "id": "jLnkcFu9f5bR",
        "outputId": "08073694-4787-4791-8a3f-294fd5cc782e"
      },
      "execution_count": 13,
      "outputs": [
        {
          "output_type": "stream",
          "name": "stdout",
          "text": [
            "root\n",
            " |-- SNo: integer (nullable = true)\n",
            " |-- ObservationDate: string (nullable = true)\n",
            " |-- Province/State: string (nullable = true)\n",
            " |-- Country/Region: string (nullable = true)\n",
            " |-- Last Update: string (nullable = true)\n",
            " |-- Confirmed: double (nullable = true)\n",
            " |-- Deaths: double (nullable = true)\n",
            " |-- Recovered: double (nullable = true)\n",
            "\n"
          ]
        }
      ]
    },
    {
      "cell_type": "code",
      "source": [
        "covid_df.select([count(when(isnull(column), column)).alias(column) for column in covid_df.columns])"
      ],
      "metadata": {
        "colab": {
          "base_uri": "https://localhost:8080/",
          "height": 68
        },
        "id": "Fn-3bmryf_wU",
        "outputId": "ee7d7c4f-5b0c-46e7-d9b6-bfe563fc4055"
      },
      "execution_count": 14,
      "outputs": [
        {
          "output_type": "execute_result",
          "data": {
            "text/plain": [
              "+---+---------------+--------------+--------------+-----------+---------+------+---------+\n",
              "|SNo|ObservationDate|Province/State|Country/Region|Last Update|Confirmed|Deaths|Recovered|\n",
              "+---+---------------+--------------+--------------+-----------+---------+------+---------+\n",
              "|  0|              0|         72989|             0|          0|        0|     0|        0|\n",
              "+---+---------------+--------------+--------------+-----------+---------+------+---------+"
            ],
            "text/html": [
              "<table border='1'>\n",
              "<tr><th>SNo</th><th>ObservationDate</th><th>Province/State</th><th>Country/Region</th><th>Last Update</th><th>Confirmed</th><th>Deaths</th><th>Recovered</th></tr>\n",
              "<tr><td>0</td><td>0</td><td>72989</td><td>0</td><td>0</td><td>0</td><td>0</td><td>0</td></tr>\n",
              "</table>\n"
            ]
          },
          "metadata": {},
          "execution_count": 14
        }
      ]
    },
    {
      "cell_type": "code",
      "source": [
        "covid_df = covid_df.na.fill(value=0)\n",
        "covid_df.select('Province/State').show(3,False)"
      ],
      "metadata": {
        "colab": {
          "base_uri": "https://localhost:8080/"
        },
        "id": "kKspoSHygNgv",
        "outputId": "24401328-b843-435e-faa3-c797b2a9072c"
      },
      "execution_count": 15,
      "outputs": [
        {
          "output_type": "stream",
          "name": "stdout",
          "text": [
            "+--------------+\n",
            "|Province/State|\n",
            "+--------------+\n",
            "|Anhui         |\n",
            "|Beijing       |\n",
            "|Chongqing     |\n",
            "+--------------+\n",
            "only showing top 3 rows\n",
            "\n"
          ]
        }
      ]
    },
    {
      "cell_type": "code",
      "source": [
        "covid_df.fillna(\"Province/State\")"
      ],
      "metadata": {
        "colab": {
          "base_uri": "https://localhost:8080/",
          "height": 529
        },
        "id": "TCWRAFMQgTh0",
        "outputId": "d31e884e-351a-4720-fdbd-24e5c338fa7d"
      },
      "execution_count": 16,
      "outputs": [
        {
          "output_type": "execute_result",
          "data": {
            "text/plain": [
              "+---+---------------+--------------+--------------+---------------+---------+------+---------+\n",
              "|SNo|ObservationDate|Province/State|Country/Region|    Last Update|Confirmed|Deaths|Recovered|\n",
              "+---+---------------+--------------+--------------+---------------+---------+------+---------+\n",
              "|  1|     01/22/2020|         Anhui|Mainland China|1/22/2020 17:00|      1.0|   0.0|      0.0|\n",
              "|  2|     01/22/2020|       Beijing|Mainland China|1/22/2020 17:00|     14.0|   0.0|      0.0|\n",
              "|  3|     01/22/2020|     Chongqing|Mainland China|1/22/2020 17:00|      6.0|   0.0|      0.0|\n",
              "|  4|     01/22/2020|        Fujian|Mainland China|1/22/2020 17:00|      1.0|   0.0|      0.0|\n",
              "|  5|     01/22/2020|         Gansu|Mainland China|1/22/2020 17:00|      0.0|   0.0|      0.0|\n",
              "|  6|     01/22/2020|     Guangdong|Mainland China|1/22/2020 17:00|     26.0|   0.0|      0.0|\n",
              "|  7|     01/22/2020|       Guangxi|Mainland China|1/22/2020 17:00|      2.0|   0.0|      0.0|\n",
              "|  8|     01/22/2020|       Guizhou|Mainland China|1/22/2020 17:00|      1.0|   0.0|      0.0|\n",
              "|  9|     01/22/2020|        Hainan|Mainland China|1/22/2020 17:00|      4.0|   0.0|      0.0|\n",
              "| 10|     01/22/2020|         Hebei|Mainland China|1/22/2020 17:00|      1.0|   0.0|      0.0|\n",
              "| 11|     01/22/2020|  Heilongjiang|Mainland China|1/22/2020 17:00|      0.0|   0.0|      0.0|\n",
              "| 12|     01/22/2020|         Henan|Mainland China|1/22/2020 17:00|      5.0|   0.0|      0.0|\n",
              "| 13|     01/22/2020|     Hong Kong|     Hong Kong|1/22/2020 17:00|      0.0|   0.0|      0.0|\n",
              "| 14|     01/22/2020|         Hubei|Mainland China|1/22/2020 17:00|    444.0|  17.0|     28.0|\n",
              "| 15|     01/22/2020|         Hunan|Mainland China|1/22/2020 17:00|      4.0|   0.0|      0.0|\n",
              "| 16|     01/22/2020|Inner Mongolia|Mainland China|1/22/2020 17:00|      0.0|   0.0|      0.0|\n",
              "| 17|     01/22/2020|       Jiangsu|Mainland China|1/22/2020 17:00|      1.0|   0.0|      0.0|\n",
              "| 18|     01/22/2020|       Jiangxi|Mainland China|1/22/2020 17:00|      2.0|   0.0|      0.0|\n",
              "| 19|     01/22/2020|         Jilin|Mainland China|1/22/2020 17:00|      0.0|   0.0|      0.0|\n",
              "| 20|     01/22/2020|      Liaoning|Mainland China|1/22/2020 17:00|      2.0|   0.0|      0.0|\n",
              "+---+---------------+--------------+--------------+---------------+---------+------+---------+\n",
              "only showing top 20 rows"
            ],
            "text/html": [
              "<table border='1'>\n",
              "<tr><th>SNo</th><th>ObservationDate</th><th>Province/State</th><th>Country/Region</th><th>Last Update</th><th>Confirmed</th><th>Deaths</th><th>Recovered</th></tr>\n",
              "<tr><td>1</td><td>01/22/2020</td><td>Anhui</td><td>Mainland China</td><td>1/22/2020 17:00</td><td>1.0</td><td>0.0</td><td>0.0</td></tr>\n",
              "<tr><td>2</td><td>01/22/2020</td><td>Beijing</td><td>Mainland China</td><td>1/22/2020 17:00</td><td>14.0</td><td>0.0</td><td>0.0</td></tr>\n",
              "<tr><td>3</td><td>01/22/2020</td><td>Chongqing</td><td>Mainland China</td><td>1/22/2020 17:00</td><td>6.0</td><td>0.0</td><td>0.0</td></tr>\n",
              "<tr><td>4</td><td>01/22/2020</td><td>Fujian</td><td>Mainland China</td><td>1/22/2020 17:00</td><td>1.0</td><td>0.0</td><td>0.0</td></tr>\n",
              "<tr><td>5</td><td>01/22/2020</td><td>Gansu</td><td>Mainland China</td><td>1/22/2020 17:00</td><td>0.0</td><td>0.0</td><td>0.0</td></tr>\n",
              "<tr><td>6</td><td>01/22/2020</td><td>Guangdong</td><td>Mainland China</td><td>1/22/2020 17:00</td><td>26.0</td><td>0.0</td><td>0.0</td></tr>\n",
              "<tr><td>7</td><td>01/22/2020</td><td>Guangxi</td><td>Mainland China</td><td>1/22/2020 17:00</td><td>2.0</td><td>0.0</td><td>0.0</td></tr>\n",
              "<tr><td>8</td><td>01/22/2020</td><td>Guizhou</td><td>Mainland China</td><td>1/22/2020 17:00</td><td>1.0</td><td>0.0</td><td>0.0</td></tr>\n",
              "<tr><td>9</td><td>01/22/2020</td><td>Hainan</td><td>Mainland China</td><td>1/22/2020 17:00</td><td>4.0</td><td>0.0</td><td>0.0</td></tr>\n",
              "<tr><td>10</td><td>01/22/2020</td><td>Hebei</td><td>Mainland China</td><td>1/22/2020 17:00</td><td>1.0</td><td>0.0</td><td>0.0</td></tr>\n",
              "<tr><td>11</td><td>01/22/2020</td><td>Heilongjiang</td><td>Mainland China</td><td>1/22/2020 17:00</td><td>0.0</td><td>0.0</td><td>0.0</td></tr>\n",
              "<tr><td>12</td><td>01/22/2020</td><td>Henan</td><td>Mainland China</td><td>1/22/2020 17:00</td><td>5.0</td><td>0.0</td><td>0.0</td></tr>\n",
              "<tr><td>13</td><td>01/22/2020</td><td>Hong Kong</td><td>Hong Kong</td><td>1/22/2020 17:00</td><td>0.0</td><td>0.0</td><td>0.0</td></tr>\n",
              "<tr><td>14</td><td>01/22/2020</td><td>Hubei</td><td>Mainland China</td><td>1/22/2020 17:00</td><td>444.0</td><td>17.0</td><td>28.0</td></tr>\n",
              "<tr><td>15</td><td>01/22/2020</td><td>Hunan</td><td>Mainland China</td><td>1/22/2020 17:00</td><td>4.0</td><td>0.0</td><td>0.0</td></tr>\n",
              "<tr><td>16</td><td>01/22/2020</td><td>Inner Mongolia</td><td>Mainland China</td><td>1/22/2020 17:00</td><td>0.0</td><td>0.0</td><td>0.0</td></tr>\n",
              "<tr><td>17</td><td>01/22/2020</td><td>Jiangsu</td><td>Mainland China</td><td>1/22/2020 17:00</td><td>1.0</td><td>0.0</td><td>0.0</td></tr>\n",
              "<tr><td>18</td><td>01/22/2020</td><td>Jiangxi</td><td>Mainland China</td><td>1/22/2020 17:00</td><td>2.0</td><td>0.0</td><td>0.0</td></tr>\n",
              "<tr><td>19</td><td>01/22/2020</td><td>Jilin</td><td>Mainland China</td><td>1/22/2020 17:00</td><td>0.0</td><td>0.0</td><td>0.0</td></tr>\n",
              "<tr><td>20</td><td>01/22/2020</td><td>Liaoning</td><td>Mainland China</td><td>1/22/2020 17:00</td><td>2.0</td><td>0.0</td><td>0.0</td></tr>\n",
              "</table>\n",
              "only showing top 20 rows\n"
            ]
          },
          "metadata": {},
          "execution_count": 16
        }
      ]
    },
    {
      "cell_type": "code",
      "source": [
        "print(type(covid_df))"
      ],
      "metadata": {
        "colab": {
          "base_uri": "https://localhost:8080/"
        },
        "id": "rafLmQuagaiM",
        "outputId": "f249596b-7f47-4d62-8b47-9f3008df3adf"
      },
      "execution_count": 17,
      "outputs": [
        {
          "output_type": "stream",
          "name": "stdout",
          "text": [
            "<class 'pyspark.sql.dataframe.DataFrame'>\n"
          ]
        }
      ]
    },
    {
      "cell_type": "code",
      "source": [
        "maxconfirmedcount = covid_df.groupBy(\"Country/Region\").max(\"Confirmed\")\n",
        "maxconfirmedcount = maxconfirmedcount.orderBy('max(Confirmed)', ascending=False)\n",
        "maxconfirmedcount.show(10,False) "
      ],
      "metadata": {
        "colab": {
          "base_uri": "https://localhost:8080/"
        },
        "id": "CBtRwnQmgfuJ",
        "outputId": "77943cd1-13f5-43ff-fa3f-1390d54139cc"
      },
      "execution_count": 18,
      "outputs": [
        {
          "output_type": "stream",
          "name": "stdout",
          "text": [
            "+--------------+--------------+\n",
            "|Country/Region|max(Confirmed)|\n",
            "+--------------+--------------+\n",
            "|France        |5605532.0     |\n",
            "|Turkey        |4875388.0     |\n",
            "|India         |4665754.0     |\n",
            "|UK            |3861901.0     |\n",
            "|US            |3744830.0     |\n",
            "|Argentina     |3005259.0     |\n",
            "|Brazil        |2923367.0     |\n",
            "|Poland        |2803233.0     |\n",
            "|Iran          |2534855.0     |\n",
            "|Indonesia     |1677274.0     |\n",
            "+--------------+--------------+\n",
            "only showing top 10 rows\n",
            "\n"
          ]
        }
      ]
    },
    {
      "cell_type": "code",
      "source": [
        "maxdeathscount = covid_df.groupBy(\"Country/Region\").max(\"Deaths\")\n",
        "maxdeathscount = maxdeathscount.orderBy('max(Deaths)', ascending=False)\n",
        "maxdeathscount.show(10,False) "
      ],
      "metadata": {
        "colab": {
          "base_uri": "https://localhost:8080/"
        },
        "id": "5uK7npT1gnb3",
        "outputId": "48a078bd-4029-44ce-c3e1-2bc2d775a3fc"
      },
      "execution_count": 19,
      "outputs": [
        {
          "output_type": "stream",
          "name": "stdout",
          "text": [
            "+--------------+-----------+\n",
            "|Country/Region|max(Deaths)|\n",
            "+--------------+-----------+\n",
            "|UK            |112182.0   |\n",
            "|France        |104093.0   |\n",
            "|Brazil        |97058.0    |\n",
            "|Iran          |72484.0    |\n",
            "|India         |69615.0    |\n",
            "|Poland        |68068.0    |\n",
            "|Argentina     |64252.0    |\n",
            "|US            |62078.0    |\n",
            "|South Africa  |54417.0    |\n",
            "|Indonesia     |45796.0    |\n",
            "+--------------+-----------+\n",
            "only showing top 10 rows\n",
            "\n"
          ]
        }
      ]
    },
    {
      "cell_type": "code",
      "source": [
        "maxrecoveredcount = covid_df.groupBy(\"Country/Region\").max(\"Recovered\")\n",
        "maxrecoveredcount = maxrecoveredcount.orderBy('max(Recovered)', ascending=False)\n",
        "maxrecoveredcount.show(10,False)"
      ],
      "metadata": {
        "colab": {
          "base_uri": "https://localhost:8080/"
        },
        "id": "bzBldaN9grnw",
        "outputId": "0ba01d34-f4aa-4a93-8cd1-56aaee222311"
      },
      "execution_count": 20,
      "outputs": [
        {
          "output_type": "stream",
          "name": "stdout",
          "text": [
            "+--------------+--------------+\n",
            "|Country/Region|max(Recovered)|\n",
            "+--------------+--------------+\n",
            "|US            |6399531.0     |\n",
            "|Turkey        |4480381.0     |\n",
            "|India         |3930302.0     |\n",
            "|Argentina     |2676197.0     |\n",
            "|Brazil        |2588973.0     |\n",
            "|Poland        |2520968.0     |\n",
            "|Iran          |1988165.0     |\n",
            "|Mexico        |1869529.0     |\n",
            "|Peru          |1748170.0     |\n",
            "|Czech Republic|1555215.0     |\n",
            "+--------------+--------------+\n",
            "only showing top 10 rows\n",
            "\n"
          ]
        }
      ]
    },
    {
      "cell_type": "markdown",
      "source": [],
      "metadata": {
        "id": "cWskPwvbalEI"
      }
    },
    {
      "cell_type": "code",
      "source": [
        "import numpy as np\n",
        "import pandas as pd\n",
        "import matplotlib\n",
        "import matplotlib.pyplot as plt\n",
        "import matplotlib.image as mpimg\n",
        "%matplotlib inline\n",
        "\n"
      ],
      "metadata": {
        "id": "6_XonFb6iUEu"
      },
      "execution_count": 21,
      "outputs": []
    },
    {
      "cell_type": "code",
      "source": [
        "df=pd.read_csv('covid/covid_19_data.csv')\n",
        "df.head()"
      ],
      "metadata": {
        "colab": {
          "base_uri": "https://localhost:8080/",
          "height": 206
        },
        "id": "Xp2Xhzsojebp",
        "outputId": "59470b72-e6b2-46e6-86e0-5974b6e6956c"
      },
      "execution_count": 22,
      "outputs": [
        {
          "output_type": "execute_result",
          "data": {
            "text/plain": [
              "   SNo ObservationDate Province/State  Country/Region      Last Update  \\\n",
              "0    1      01/22/2020          Anhui  Mainland China  1/22/2020 17:00   \n",
              "1    2      01/22/2020        Beijing  Mainland China  1/22/2020 17:00   \n",
              "2    3      01/22/2020      Chongqing  Mainland China  1/22/2020 17:00   \n",
              "3    4      01/22/2020         Fujian  Mainland China  1/22/2020 17:00   \n",
              "4    5      01/22/2020          Gansu  Mainland China  1/22/2020 17:00   \n",
              "\n",
              "   Confirmed  Deaths  Recovered  \n",
              "0        1.0     0.0        0.0  \n",
              "1       14.0     0.0        0.0  \n",
              "2        6.0     0.0        0.0  \n",
              "3        1.0     0.0        0.0  \n",
              "4        0.0     0.0        0.0  "
            ],
            "text/html": [
              "\n",
              "  <div id=\"df-79febabc-a817-42d2-a99f-f9bd691f89cd\">\n",
              "    <div class=\"colab-df-container\">\n",
              "      <div>\n",
              "<style scoped>\n",
              "    .dataframe tbody tr th:only-of-type {\n",
              "        vertical-align: middle;\n",
              "    }\n",
              "\n",
              "    .dataframe tbody tr th {\n",
              "        vertical-align: top;\n",
              "    }\n",
              "\n",
              "    .dataframe thead th {\n",
              "        text-align: right;\n",
              "    }\n",
              "</style>\n",
              "<table border=\"1\" class=\"dataframe\">\n",
              "  <thead>\n",
              "    <tr style=\"text-align: right;\">\n",
              "      <th></th>\n",
              "      <th>SNo</th>\n",
              "      <th>ObservationDate</th>\n",
              "      <th>Province/State</th>\n",
              "      <th>Country/Region</th>\n",
              "      <th>Last Update</th>\n",
              "      <th>Confirmed</th>\n",
              "      <th>Deaths</th>\n",
              "      <th>Recovered</th>\n",
              "    </tr>\n",
              "  </thead>\n",
              "  <tbody>\n",
              "    <tr>\n",
              "      <th>0</th>\n",
              "      <td>1</td>\n",
              "      <td>01/22/2020</td>\n",
              "      <td>Anhui</td>\n",
              "      <td>Mainland China</td>\n",
              "      <td>1/22/2020 17:00</td>\n",
              "      <td>1.0</td>\n",
              "      <td>0.0</td>\n",
              "      <td>0.0</td>\n",
              "    </tr>\n",
              "    <tr>\n",
              "      <th>1</th>\n",
              "      <td>2</td>\n",
              "      <td>01/22/2020</td>\n",
              "      <td>Beijing</td>\n",
              "      <td>Mainland China</td>\n",
              "      <td>1/22/2020 17:00</td>\n",
              "      <td>14.0</td>\n",
              "      <td>0.0</td>\n",
              "      <td>0.0</td>\n",
              "    </tr>\n",
              "    <tr>\n",
              "      <th>2</th>\n",
              "      <td>3</td>\n",
              "      <td>01/22/2020</td>\n",
              "      <td>Chongqing</td>\n",
              "      <td>Mainland China</td>\n",
              "      <td>1/22/2020 17:00</td>\n",
              "      <td>6.0</td>\n",
              "      <td>0.0</td>\n",
              "      <td>0.0</td>\n",
              "    </tr>\n",
              "    <tr>\n",
              "      <th>3</th>\n",
              "      <td>4</td>\n",
              "      <td>01/22/2020</td>\n",
              "      <td>Fujian</td>\n",
              "      <td>Mainland China</td>\n",
              "      <td>1/22/2020 17:00</td>\n",
              "      <td>1.0</td>\n",
              "      <td>0.0</td>\n",
              "      <td>0.0</td>\n",
              "    </tr>\n",
              "    <tr>\n",
              "      <th>4</th>\n",
              "      <td>5</td>\n",
              "      <td>01/22/2020</td>\n",
              "      <td>Gansu</td>\n",
              "      <td>Mainland China</td>\n",
              "      <td>1/22/2020 17:00</td>\n",
              "      <td>0.0</td>\n",
              "      <td>0.0</td>\n",
              "      <td>0.0</td>\n",
              "    </tr>\n",
              "  </tbody>\n",
              "</table>\n",
              "</div>\n",
              "      <button class=\"colab-df-convert\" onclick=\"convertToInteractive('df-79febabc-a817-42d2-a99f-f9bd691f89cd')\"\n",
              "              title=\"Convert this dataframe to an interactive table.\"\n",
              "              style=\"display:none;\">\n",
              "        \n",
              "  <svg xmlns=\"http://www.w3.org/2000/svg\" height=\"24px\"viewBox=\"0 0 24 24\"\n",
              "       width=\"24px\">\n",
              "    <path d=\"M0 0h24v24H0V0z\" fill=\"none\"/>\n",
              "    <path d=\"M18.56 5.44l.94 2.06.94-2.06 2.06-.94-2.06-.94-.94-2.06-.94 2.06-2.06.94zm-11 1L8.5 8.5l.94-2.06 2.06-.94-2.06-.94L8.5 2.5l-.94 2.06-2.06.94zm10 10l.94 2.06.94-2.06 2.06-.94-2.06-.94-.94-2.06-.94 2.06-2.06.94z\"/><path d=\"M17.41 7.96l-1.37-1.37c-.4-.4-.92-.59-1.43-.59-.52 0-1.04.2-1.43.59L10.3 9.45l-7.72 7.72c-.78.78-.78 2.05 0 2.83L4 21.41c.39.39.9.59 1.41.59.51 0 1.02-.2 1.41-.59l7.78-7.78 2.81-2.81c.8-.78.8-2.07 0-2.86zM5.41 20L4 18.59l7.72-7.72 1.47 1.35L5.41 20z\"/>\n",
              "  </svg>\n",
              "      </button>\n",
              "      \n",
              "  <style>\n",
              "    .colab-df-container {\n",
              "      display:flex;\n",
              "      flex-wrap:wrap;\n",
              "      gap: 12px;\n",
              "    }\n",
              "\n",
              "    .colab-df-convert {\n",
              "      background-color: #E8F0FE;\n",
              "      border: none;\n",
              "      border-radius: 50%;\n",
              "      cursor: pointer;\n",
              "      display: none;\n",
              "      fill: #1967D2;\n",
              "      height: 32px;\n",
              "      padding: 0 0 0 0;\n",
              "      width: 32px;\n",
              "    }\n",
              "\n",
              "    .colab-df-convert:hover {\n",
              "      background-color: #E2EBFA;\n",
              "      box-shadow: 0px 1px 2px rgba(60, 64, 67, 0.3), 0px 1px 3px 1px rgba(60, 64, 67, 0.15);\n",
              "      fill: #174EA6;\n",
              "    }\n",
              "\n",
              "    [theme=dark] .colab-df-convert {\n",
              "      background-color: #3B4455;\n",
              "      fill: #D2E3FC;\n",
              "    }\n",
              "\n",
              "    [theme=dark] .colab-df-convert:hover {\n",
              "      background-color: #434B5C;\n",
              "      box-shadow: 0px 1px 3px 1px rgba(0, 0, 0, 0.15);\n",
              "      filter: drop-shadow(0px 1px 2px rgba(0, 0, 0, 0.3));\n",
              "      fill: #FFFFFF;\n",
              "    }\n",
              "  </style>\n",
              "\n",
              "      <script>\n",
              "        const buttonEl =\n",
              "          document.querySelector('#df-79febabc-a817-42d2-a99f-f9bd691f89cd button.colab-df-convert');\n",
              "        buttonEl.style.display =\n",
              "          google.colab.kernel.accessAllowed ? 'block' : 'none';\n",
              "\n",
              "        async function convertToInteractive(key) {\n",
              "          const element = document.querySelector('#df-79febabc-a817-42d2-a99f-f9bd691f89cd');\n",
              "          const dataTable =\n",
              "            await google.colab.kernel.invokeFunction('convertToInteractive',\n",
              "                                                     [key], {});\n",
              "          if (!dataTable) return;\n",
              "\n",
              "          const docLinkHtml = 'Like what you see? Visit the ' +\n",
              "            '<a target=\"_blank\" href=https://colab.research.google.com/notebooks/data_table.ipynb>data table notebook</a>'\n",
              "            + ' to learn more about interactive tables.';\n",
              "          element.innerHTML = '';\n",
              "          dataTable['output_type'] = 'display_data';\n",
              "          await google.colab.output.renderOutput(dataTable, element);\n",
              "          const docLink = document.createElement('div');\n",
              "          docLink.innerHTML = docLinkHtml;\n",
              "          element.appendChild(docLink);\n",
              "        }\n",
              "      </script>\n",
              "    </div>\n",
              "  </div>\n",
              "  "
            ]
          },
          "metadata": {},
          "execution_count": 22
        }
      ]
    },
    {
      "cell_type": "code",
      "source": [
        "df=df[['Province/State','Country/Region','Confirmed','Deaths','Recovered']]"
      ],
      "metadata": {
        "id": "_hDRtAA2irKF"
      },
      "execution_count": 23,
      "outputs": []
    },
    {
      "cell_type": "code",
      "source": [
        "df.corr()"
      ],
      "metadata": {
        "colab": {
          "base_uri": "https://localhost:8080/",
          "height": 143
        },
        "id": "-87yJIfyjV6h",
        "outputId": "cfb1c5f8-0ed5-4129-9e05-b1294bcee825"
      },
      "execution_count": 24,
      "outputs": [
        {
          "output_type": "execute_result",
          "data": {
            "text/plain": [
              "           Confirmed    Deaths  Recovered\n",
              "Confirmed   1.000000  0.885990   0.591882\n",
              "Deaths      0.885990  1.000000   0.509682\n",
              "Recovered   0.591882  0.509682   1.000000"
            ],
            "text/html": [
              "\n",
              "  <div id=\"df-ab119cb8-0df8-4e2c-b8f5-a345ef02ca0b\">\n",
              "    <div class=\"colab-df-container\">\n",
              "      <div>\n",
              "<style scoped>\n",
              "    .dataframe tbody tr th:only-of-type {\n",
              "        vertical-align: middle;\n",
              "    }\n",
              "\n",
              "    .dataframe tbody tr th {\n",
              "        vertical-align: top;\n",
              "    }\n",
              "\n",
              "    .dataframe thead th {\n",
              "        text-align: right;\n",
              "    }\n",
              "</style>\n",
              "<table border=\"1\" class=\"dataframe\">\n",
              "  <thead>\n",
              "    <tr style=\"text-align: right;\">\n",
              "      <th></th>\n",
              "      <th>Confirmed</th>\n",
              "      <th>Deaths</th>\n",
              "      <th>Recovered</th>\n",
              "    </tr>\n",
              "  </thead>\n",
              "  <tbody>\n",
              "    <tr>\n",
              "      <th>Confirmed</th>\n",
              "      <td>1.000000</td>\n",
              "      <td>0.885990</td>\n",
              "      <td>0.591882</td>\n",
              "    </tr>\n",
              "    <tr>\n",
              "      <th>Deaths</th>\n",
              "      <td>0.885990</td>\n",
              "      <td>1.000000</td>\n",
              "      <td>0.509682</td>\n",
              "    </tr>\n",
              "    <tr>\n",
              "      <th>Recovered</th>\n",
              "      <td>0.591882</td>\n",
              "      <td>0.509682</td>\n",
              "      <td>1.000000</td>\n",
              "    </tr>\n",
              "  </tbody>\n",
              "</table>\n",
              "</div>\n",
              "      <button class=\"colab-df-convert\" onclick=\"convertToInteractive('df-ab119cb8-0df8-4e2c-b8f5-a345ef02ca0b')\"\n",
              "              title=\"Convert this dataframe to an interactive table.\"\n",
              "              style=\"display:none;\">\n",
              "        \n",
              "  <svg xmlns=\"http://www.w3.org/2000/svg\" height=\"24px\"viewBox=\"0 0 24 24\"\n",
              "       width=\"24px\">\n",
              "    <path d=\"M0 0h24v24H0V0z\" fill=\"none\"/>\n",
              "    <path d=\"M18.56 5.44l.94 2.06.94-2.06 2.06-.94-2.06-.94-.94-2.06-.94 2.06-2.06.94zm-11 1L8.5 8.5l.94-2.06 2.06-.94-2.06-.94L8.5 2.5l-.94 2.06-2.06.94zm10 10l.94 2.06.94-2.06 2.06-.94-2.06-.94-.94-2.06-.94 2.06-2.06.94z\"/><path d=\"M17.41 7.96l-1.37-1.37c-.4-.4-.92-.59-1.43-.59-.52 0-1.04.2-1.43.59L10.3 9.45l-7.72 7.72c-.78.78-.78 2.05 0 2.83L4 21.41c.39.39.9.59 1.41.59.51 0 1.02-.2 1.41-.59l7.78-7.78 2.81-2.81c.8-.78.8-2.07 0-2.86zM5.41 20L4 18.59l7.72-7.72 1.47 1.35L5.41 20z\"/>\n",
              "  </svg>\n",
              "      </button>\n",
              "      \n",
              "  <style>\n",
              "    .colab-df-container {\n",
              "      display:flex;\n",
              "      flex-wrap:wrap;\n",
              "      gap: 12px;\n",
              "    }\n",
              "\n",
              "    .colab-df-convert {\n",
              "      background-color: #E8F0FE;\n",
              "      border: none;\n",
              "      border-radius: 50%;\n",
              "      cursor: pointer;\n",
              "      display: none;\n",
              "      fill: #1967D2;\n",
              "      height: 32px;\n",
              "      padding: 0 0 0 0;\n",
              "      width: 32px;\n",
              "    }\n",
              "\n",
              "    .colab-df-convert:hover {\n",
              "      background-color: #E2EBFA;\n",
              "      box-shadow: 0px 1px 2px rgba(60, 64, 67, 0.3), 0px 1px 3px 1px rgba(60, 64, 67, 0.15);\n",
              "      fill: #174EA6;\n",
              "    }\n",
              "\n",
              "    [theme=dark] .colab-df-convert {\n",
              "      background-color: #3B4455;\n",
              "      fill: #D2E3FC;\n",
              "    }\n",
              "\n",
              "    [theme=dark] .colab-df-convert:hover {\n",
              "      background-color: #434B5C;\n",
              "      box-shadow: 0px 1px 3px 1px rgba(0, 0, 0, 0.15);\n",
              "      filter: drop-shadow(0px 1px 2px rgba(0, 0, 0, 0.3));\n",
              "      fill: #FFFFFF;\n",
              "    }\n",
              "  </style>\n",
              "\n",
              "      <script>\n",
              "        const buttonEl =\n",
              "          document.querySelector('#df-ab119cb8-0df8-4e2c-b8f5-a345ef02ca0b button.colab-df-convert');\n",
              "        buttonEl.style.display =\n",
              "          google.colab.kernel.accessAllowed ? 'block' : 'none';\n",
              "\n",
              "        async function convertToInteractive(key) {\n",
              "          const element = document.querySelector('#df-ab119cb8-0df8-4e2c-b8f5-a345ef02ca0b');\n",
              "          const dataTable =\n",
              "            await google.colab.kernel.invokeFunction('convertToInteractive',\n",
              "                                                     [key], {});\n",
              "          if (!dataTable) return;\n",
              "\n",
              "          const docLinkHtml = 'Like what you see? Visit the ' +\n",
              "            '<a target=\"_blank\" href=https://colab.research.google.com/notebooks/data_table.ipynb>data table notebook</a>'\n",
              "            + ' to learn more about interactive tables.';\n",
              "          element.innerHTML = '';\n",
              "          dataTable['output_type'] = 'display_data';\n",
              "          await google.colab.output.renderOutput(dataTable, element);\n",
              "          const docLink = document.createElement('div');\n",
              "          docLink.innerHTML = docLinkHtml;\n",
              "          element.appendChild(docLink);\n",
              "        }\n",
              "      </script>\n",
              "    </div>\n",
              "  </div>\n",
              "  "
            ]
          },
          "metadata": {},
          "execution_count": 24
        }
      ]
    },
    {
      "cell_type": "code",
      "source": [
        "plt.imshow(df.corr())"
      ],
      "metadata": {
        "colab": {
          "base_uri": "https://localhost:8080/",
          "height": 286
        },
        "id": "-XU92Z6skID8",
        "outputId": "ffcba09c-272c-4ba5-e492-b890a32f00cf"
      },
      "execution_count": 25,
      "outputs": [
        {
          "output_type": "execute_result",
          "data": {
            "text/plain": [
              "<matplotlib.image.AxesImage at 0x7f39870cb9a0>"
            ]
          },
          "metadata": {},
          "execution_count": 25
        },
        {
          "output_type": "display_data",
          "data": {
            "text/plain": [
              "<Figure size 432x288 with 1 Axes>"
            ],
            "image/png": "[encoded data removed]"
          },
          "metadata": {
            "needs_background": "light"
          }
        }
      ]
    },
    {
      "cell_type": "code",
      "source": [
        "plt.imshow(df.corr(), cmap=\"Spectral\")\n",
        "plt.colorbar()\n",
        "plt.gcf().set_size_inches(8, 8)\n",
        "plt.xticks(range(len(df.corr().columns)), df.corr().columns)\n",
        "plt.yticks(range(len(df.corr().columns)), df.corr().columns)\n",
        "plt.show()"
      ],
      "metadata": {
        "colab": {
          "base_uri": "https://localhost:8080/",
          "height": 470
        },
        "id": "V_DbPxrwkJtO",
        "outputId": "56d7f64d-2727-4df8-baef-6f197d4c42d8"
      },
      "execution_count": 27,
      "outputs": [
        {
          "output_type": "display_data",
          "data": {
            "text/plain": [
              "<Figure size 576x576 with 2 Axes>"
            ],
            "image/png": "[encoded data removed]"
          },
          "metadata": {
            "needs_background": "light"
          }
        }
      ]
    }
  ]
}